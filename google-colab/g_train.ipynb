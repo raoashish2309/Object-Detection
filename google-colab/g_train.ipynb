{
  "cells": [
    {
      "cell_type": "code",
      "source": [
        "!pip install ultralytics"
      ],
      "metadata": {
        "id": "BNQ6Ig8eLtdi"
      },
      "execution_count": null,
      "outputs": []
    },
    {
      "cell_type": "code",
      "execution_count": null,
      "metadata": {
        "id": "tU_IIm4WT2Pw"
      },
      "outputs": [],
      "source": [
        "import os\n",
        "from ultralytics import YOLOfrom google.colab import drive\n",
        "drive.mount('/content/gdrive')"
      ]
    },
    {
      "cell_type": "code",
      "execution_count": null,
      "metadata": {
        "id": "eJJhlLqeVY60"
      },
      "outputs": [],
      "source": [
        "ROOT_DIR = '/content/gdrive/My Drive/Projects/Object Detection/Yolo v8'"
      ]
    },
    {
      "cell_type": "code",
      "execution_count": null,
      "metadata": {
        "id": "5xTfYFghWacb"
      },
      "outputs": [],
      "source": [
        "# Build a new model from scratch\n",
        "model = YOLO(\"yolov8n.yaml\")\n",
        "\n",
        "# Use the model\n",
        "model.train(data=os.path.join(ROOT_DIR,\"data\",\"g_config.yaml\"), epochs=150)  # train the model"
      ]
    },
    {
      "cell_type": "code",
      "execution_count": null,
      "metadata": {
        "id": "0DTahTYvRD88"
      },
      "outputs": [],
      "source": [
        "metrics = model.val()  # evaluate model performance on the validation set"
      ]
    },
    {
      "cell_type": "code",
      "execution_count": null,
      "metadata": {
        "id": "5Tyv9UZSKfj4"
      },
      "outputs": [],
      "source": [
        "!scp -r /content/runs '/content/gdrive/My Drive/Projects/Object Detection/Yolo v8'"
      ]
    }
  ],
  "metadata": {
    "accelerator": "GPU",
    "colab": {
      "gpuType": "T4",
      "provenance": []
    },
    "kernelspec": {
      "display_name": "Python 3",
      "name": "python3"
    },
    "language_info": {
      "name": "python"
    }
  },
  "nbformat": 4,
  "nbformat_minor": 0
}