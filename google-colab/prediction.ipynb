{
  "nbformat": 4,
  "nbformat_minor": 0,
  "metadata": {
    "colab": {
      "provenance": []
    },
    "kernelspec": {
      "name": "python3",
      "display_name": "Python 3"
    },
    "language_info": {
      "name": "python"
    }
  },
  "cells": [
    {
      "cell_type": "code",
      "execution_count": null,
      "metadata": {
        "id": "Yw9k_RkQKai3"
      },
      "outputs": [],
      "source": [
        "import os\n",
        "import cv2\n",
        "from google.colab.patches import cv2_imshow\n",
        "from ultralytics import YOLO\n",
        "from google.colab import drive"
      ]
    },
    {
      "cell_type": "code",
      "source": [
        "\n",
        "drive.mount('/content/gdrive')"
      ],
      "metadata": {
        "id": "avtNVhwjK7Db"
      },
      "execution_count": null,
      "outputs": []
    },
    {
      "cell_type": "code",
      "source": [
        "ROOT_DIR = '/content/gdrive/My Drive/Projects/Object Detection/Yolo v8'"
      ],
      "metadata": {
        "id": "MYfwdexCKkqz"
      },
      "execution_count": null,
      "outputs": []
    },
    {
      "cell_type": "code",
      "source": [
        "model = YOLO(os.path.join(ROOT_DIR,'runs','detect','trains','weights','last.pt'))"
      ],
      "metadata": {
        "id": "Kr8up_OUL4DW"
      },
      "execution_count": null,
      "outputs": []
    },
    {
      "cell_type": "code",
      "source": [
        "results = model(os.path.join(ROOT_DIR,'input',))"
      ],
      "metadata": {
        "id": "Wvp7mdwzMR6X"
      },
      "execution_count": null,
      "outputs": []
    },
    {
      "cell_type": "code",
      "source": [
        "# Extract results\n",
        "for result in results:\n",
        "    boxes = result.boxes  # box coordinates\n",
        "\n",
        "    for box in boxes:\n",
        "        label = model.names[int(box.cls)]\n",
        "        score = float(box.conf)\n",
        "        bbox = box.xyxy[0].tolist()\n",
        "        x1, y1, x2, y2 = int(bbox[0]), int(bbox[1]), int(bbox[2]), int(bbox[3])\n",
        "\n",
        "        # Draw the bounding box on the image\n",
        "        cv2.rectangle(image, (x1, y1), (x2, y2), (0, 255, 0), 2)\n",
        "        cv2.putText(image, f'{label} {score:.2f}', (x1, y1 - 10), cv2.FONT_HERSHEY_SIMPLEX, 0.9, (0, 255, 0), 2)\n",
        "\n",
        "# Save or display the image with bounding boxes\n",
        "cv2.imwrite('output.jpg', image)\n",
        "\n",
        "from google.colab.patches import cv2_imshow\n",
        "cv2_imshow(image)\n",
        "cv2.waitKey(0)\n",
        "cv2.destroyAllWindows()"
      ],
      "metadata": {
        "id": "TIOQFJlLKp4f"
      },
      "execution_count": null,
      "outputs": []
    }
  ]
}